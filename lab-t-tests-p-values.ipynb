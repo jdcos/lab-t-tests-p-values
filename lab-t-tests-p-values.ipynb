{
 "cells": [
  {
   "cell_type": "markdown",
   "id": "c6dea194-76fb-4704-b833-44c58d41ba61",
   "metadata": {},
   "source": [
    "# Lab | Inferential statistics - T-test & P-value\n",
    "\n",
    "### Instructions\n",
    "\n",
    "1. We will have another simple example on two sample t test (pooled- when the variances are equal). But this time this is a one sided t-test\n",
    "\n",
    "In a packing plant, a machine packs cartons with jars. It is supposed that a new machine will pack faster on the average than the machine currently used. To test that hypothesis, the times it takes each machine to pack ten cartons are recorded. The results, in seconds, are shown in the tables in the file `files_for_lab/machine.txt`.\n",
    "Assume that there is sufficient evidence to conduct the t test, does the data provide sufficient evidence to show if one machine is better than the other\n"
   ]
  },
  {
   "cell_type": "code",
   "execution_count": 1,
   "id": "d15d13a0-2d6b-4047-8f6c-bc64cf1cc685",
   "metadata": {},
   "outputs": [],
   "source": [
    "import math\n",
    "import pandas as pd\n",
    "import numpy as np\n",
    "import matplotlib.pyplot as plt\n",
    "import scipy.stats as st\n",
    "import statsmodels.api as sm\n",
    "import statsmodels.formula.api as smf"
   ]
  },
  {
   "cell_type": "code",
   "execution_count": 20,
   "id": "07347fba-8c22-4e56-a5aa-3e44cca011a7",
   "metadata": {},
   "outputs": [
    {
     "data": {
      "text/plain": [
       "New machine        float64\n",
       "    Old machine    float64\n",
       "dtype: object"
      ]
     },
     "execution_count": 20,
     "metadata": {},
     "output_type": "execute_result"
    }
   ],
   "source": [
    "# Hipótesis nula(H0) = Las dos máquinas empaquetan igual de rápido.\n",
    "\n",
    "# Hipótesis alternativa(H1) = La máquina nueva empaqueta más rápido de media que la máquina actualmente utilizada."
   ]
  },
  {
   "cell_type": "code",
   "execution_count": 24,
   "id": "f3fa41a8-f17c-4ece-947d-9c544163e97e",
   "metadata": {},
   "outputs": [
    {
     "data": {
      "text/html": [
       "<div>\n",
       "<style scoped>\n",
       "    .dataframe tbody tr th:only-of-type {\n",
       "        vertical-align: middle;\n",
       "    }\n",
       "\n",
       "    .dataframe tbody tr th {\n",
       "        vertical-align: top;\n",
       "    }\n",
       "\n",
       "    .dataframe thead th {\n",
       "        text-align: right;\n",
       "    }\n",
       "</style>\n",
       "<table border=\"1\" class=\"dataframe\">\n",
       "  <thead>\n",
       "    <tr style=\"text-align: right;\">\n",
       "      <th></th>\n",
       "      <th>New machine</th>\n",
       "      <th>Old machine</th>\n",
       "    </tr>\n",
       "  </thead>\n",
       "  <tbody>\n",
       "    <tr>\n",
       "      <th>0</th>\n",
       "      <td>42.1</td>\n",
       "      <td>42.7</td>\n",
       "    </tr>\n",
       "    <tr>\n",
       "      <th>1</th>\n",
       "      <td>41.0</td>\n",
       "      <td>43.6</td>\n",
       "    </tr>\n",
       "    <tr>\n",
       "      <th>2</th>\n",
       "      <td>41.3</td>\n",
       "      <td>43.8</td>\n",
       "    </tr>\n",
       "    <tr>\n",
       "      <th>3</th>\n",
       "      <td>41.8</td>\n",
       "      <td>43.3</td>\n",
       "    </tr>\n",
       "    <tr>\n",
       "      <th>4</th>\n",
       "      <td>42.4</td>\n",
       "      <td>42.5</td>\n",
       "    </tr>\n",
       "    <tr>\n",
       "      <th>5</th>\n",
       "      <td>42.8</td>\n",
       "      <td>43.5</td>\n",
       "    </tr>\n",
       "    <tr>\n",
       "      <th>6</th>\n",
       "      <td>43.2</td>\n",
       "      <td>43.1</td>\n",
       "    </tr>\n",
       "    <tr>\n",
       "      <th>7</th>\n",
       "      <td>42.3</td>\n",
       "      <td>41.7</td>\n",
       "    </tr>\n",
       "    <tr>\n",
       "      <th>8</th>\n",
       "      <td>41.8</td>\n",
       "      <td>44.0</td>\n",
       "    </tr>\n",
       "    <tr>\n",
       "      <th>9</th>\n",
       "      <td>42.7</td>\n",
       "      <td>44.1</td>\n",
       "    </tr>\n",
       "  </tbody>\n",
       "</table>\n",
       "</div>"
      ],
      "text/plain": [
       "   New machine      Old machine\n",
       "0         42.1             42.7\n",
       "1         41.0             43.6\n",
       "2         41.3             43.8\n",
       "3         41.8             43.3\n",
       "4         42.4             42.5\n",
       "5         42.8             43.5\n",
       "6         43.2             43.1\n",
       "7         42.3             41.7\n",
       "8         41.8             44.0\n",
       "9         42.7             44.1"
      ]
     },
     "execution_count": 24,
     "metadata": {},
     "output_type": "execute_result"
    }
   ],
   "source": [
    "df = pd.read_csv(\"machine.txt\", sep=\"\\t\", encoding=\"utf-16\")\n",
    "df"
   ]
  },
  {
   "cell_type": "code",
   "execution_count": 26,
   "id": "71b3c8a8-60b0-49c0-a0bb-0182ae0d606c",
   "metadata": {},
   "outputs": [],
   "source": [
    "new_machine=df[\"New machine\"]\n",
    "old_machine=df[\"    Old machine\"]"
   ]
  },
  {
   "cell_type": "code",
   "execution_count": 30,
   "id": "76698cd2-1c6a-43e3-bc66-eaa822c577ac",
   "metadata": {},
   "outputs": [],
   "source": [
    "alpha = 0.05"
   ]
  },
  {
   "cell_type": "code",
   "execution_count": 28,
   "id": "56a566d0-9998-4e3f-aa78-3b5aefc7d3b7",
   "metadata": {},
   "outputs": [
    {
     "data": {
      "text/plain": [
       "0    42.1\n",
       "1    41.0\n",
       "2    41.3\n",
       "3    41.8\n",
       "4    42.4\n",
       "5    42.8\n",
       "6    43.2\n",
       "7    42.3\n",
       "8    41.8\n",
       "9    42.7\n",
       "Name: New machine, dtype: float64"
      ]
     },
     "execution_count": 28,
     "metadata": {},
     "output_type": "execute_result"
    }
   ],
   "source": [
    "new_machine"
   ]
  },
  {
   "cell_type": "code",
   "execution_count": 32,
   "id": "a8cd57dc-0036-4d5d-8b95-f14ca90ca5c3",
   "metadata": {},
   "outputs": [
    {
     "name": "stdout",
     "output_type": "stream",
     "text": [
      "Test Statistic (t): -3.40\n",
      "P-Value: 0.0032\n",
      "\n"
     ]
    }
   ],
   "source": [
    "t_stat, p_value = st.ttest_ind(new_machine, old_machine, equal_var=False) # equal_var True for Welch's test (more robus, relies less on variance)\n",
    "print(f\"Test Statistic (t): {t_stat:.2f}\")\n",
    "print(f\"P-Value: {p_value:.4f}\")\n",
    "print()"
   ]
  },
  {
   "cell_type": "code",
   "execution_count": null,
   "id": "52d2f16b-990f-46f1-a4c9-02d6f95cf8f9",
   "metadata": {},
   "outputs": [],
   "source": [
    "# Rechazamos la hipótesis nula porque el P-value es menor que alpha, con lo cual, establecemos que la máquina nueva empaqueta más rápido de media que la máquina actualmente utilizada."
   ]
  }
 ],
 "metadata": {
  "kernelspec": {
   "display_name": "Python 3 (ipykernel)",
   "language": "python",
   "name": "python3"
  },
  "language_info": {
   "codemirror_mode": {
    "name": "ipython",
    "version": 3
   },
   "file_extension": ".py",
   "mimetype": "text/x-python",
   "name": "python",
   "nbconvert_exporter": "python",
   "pygments_lexer": "ipython3",
   "version": "3.12.4"
  }
 },
 "nbformat": 4,
 "nbformat_minor": 5
}
